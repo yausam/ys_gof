{
 "cells": [
  {
   "cell_type": "code",
   "execution_count": 1,
   "metadata": {},
   "outputs": [
    {
     "name": "stdout",
     "output_type": "stream",
     "text": [
      "Generic\n",
      "Processing single payment for A amount: 10\n",
      "Adding credit card fee...\n",
      "Credit card payment processed.\n",
      "Processing single payment for B amount: 20\n",
      "Adding PayPal fee...\n",
      "PayPal payment processed.\n"
     ]
    }
   ],
   "source": [
    "\"\"\"\n",
    "    The Decorator pattern is a structural design pattern that allows behavior to be added\n",
    "to individual objects, dynamically, without affecting the behavior of other objects from the same class. \n",
    "    It is typically used to extend or modify the behavior of objects at runtime.\n",
    "\n",
    "    The Decorator pattern is an alternative to subclassing. \n",
    "    Subclassing adds behavior at compile time, and the change affects all instances of the original class;\n",
    "\n",
    "The main components of the Decorator pattern are:\n",
    "1.  Component: This is an interface that defines the methods that can be altered by the decorator.\n",
    "2.  ConcreteComponent: This is a class that implements the Component interface.\n",
    "3.  Decorator: This is an abstract class that implements the Component interface and has a Component instance.\n",
    "4.  ConcreteDecorator: This is a class that extends the Decorator class and adds behavior to the Component.\n",
    "5.  Client: This is a class that uses the Decorator pattern to alter the behavior of the Component.\n",
    "\n",
    "\"\"\"\n",
    "print(\"Generic\")\n",
    "\n",
    "from abc import ABC, abstractmethod\n",
    "\n",
    "### Component interface\n",
    "class Payment(ABC):\n",
    "    @abstractmethod\n",
    "    def process_payment(self):\n",
    "        raise NotImplementedError()\n",
    "\n",
    "### Concrete component\n",
    "class SinglePayment(Payment):\n",
    "    def __init__(self, name, amount):\n",
    "        self.name = name\n",
    "        self.amount = amount\n",
    "    def process_payment(self):\n",
    "        print(f\"Processing single payment for {self.name} amount: {self.amount}\")\n",
    "\n",
    "### Decorator abstract class\n",
    "class PaymentDecorator(Payment):\n",
    "    def __init__(self, payment):\n",
    "        self.payment = payment\n",
    "    def process_payment(self):\n",
    "        self.payment.process_payment()\n",
    "\n",
    "## Concrete decorators\n",
    "class CreditCardPaymentDecorator(PaymentDecorator):\n",
    "    def process_payment(self):\n",
    "        super().process_payment()\n",
    "        print(\"Adding credit card fee...\")\n",
    "        print(\"Credit card payment processed.\")\n",
    "\n",
    "class PayPalPaymentDecorator(PaymentDecorator):\n",
    "    def process_payment(self):\n",
    "        super().process_payment()\n",
    "        print(\"Adding PayPal fee...\")\n",
    "        print(\"PayPal payment processed.\")\n",
    "\n",
    "### Client code\n",
    "payment1 = SinglePayment(\"A\", 10)\n",
    "payment2 = SinglePayment(\"B\", 20)\n",
    "credit_card_payment = CreditCardPaymentDecorator(payment1)\n",
    "paypal_payment = PayPalPaymentDecorator(payment2)\n",
    "credit_card_payment.process_payment()\n",
    "paypal_payment.process_payment()"
   ]
  },
  {
   "cell_type": "code",
   "execution_count": 2,
   "metadata": {},
   "outputs": [
    {
     "name": "stdout",
     "output_type": "stream",
     "text": [
      "Pythonic\n",
      "Processing single payment for A amount: 10\n",
      "Adding credit card fee...\n",
      "Credit card payment processed.\n",
      "Processing single payment for B amount: 20\n",
      "Adding PayPal fee...\n",
      "PayPal payment processed.\n"
     ]
    }
   ],
   "source": [
    "print(\"Pythonic\")\n",
    "\n",
    "### Define the single payment function\n",
    "def process_single_payment(name, amount):\n",
    "    print(f\"Processing single payment for {name} amount: {amount}\")\n",
    "\n",
    "### Define decorator functions for credit card and PayPal fees\n",
    "def credit_card_fee(func):\n",
    "    def wrapper(*args, **kwargs):\n",
    "        func(*args, **kwargs)\n",
    "        print(\"Adding credit card fee...\")\n",
    "        print(\"Credit card payment processed.\")\n",
    "    return wrapper\n",
    "\n",
    "def paypal_fee(func):\n",
    "    def wrapper(*args, **kwargs):\n",
    "        func(*args, **kwargs)\n",
    "        print(\"Adding PayPal fee...\")\n",
    "        print(\"PayPal payment processed.\")\n",
    "    return wrapper\n",
    "\n",
    "### Decorators for credit card and PayPal payments\n",
    "@credit_card_fee\n",
    "def credit_card_payment(name, amount):\n",
    "    process_single_payment(name, amount)\n",
    "\n",
    "@paypal_fee\n",
    "def paypal_payment(name, amount):\n",
    "    process_single_payment(name, amount)\n",
    "\n",
    "### Client code\n",
    "credit_card_payment(\"A\", 10)\n",
    "paypal_payment(\"B\", 20)"
   ]
  }
 ],
 "metadata": {
  "kernelspec": {
   "display_name": "base",
   "language": "python",
   "name": "python3"
  },
  "language_info": {
   "codemirror_mode": {
    "name": "ipython",
    "version": 3
   },
   "file_extension": ".py",
   "mimetype": "text/x-python",
   "name": "python",
   "nbconvert_exporter": "python",
   "pygments_lexer": "ipython3",
   "version": "3.11.8"
  }
 },
 "nbformat": 4,
 "nbformat_minor": 2
}
