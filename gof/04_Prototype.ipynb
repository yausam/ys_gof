{
 "cells": [
  {
   "cell_type": "code",
   "execution_count": 1,
   "metadata": {},
   "outputs": [
    {
     "name": "stdout",
     "output_type": "stream",
     "text": [
      "Generic\n",
      "100500\n",
      "100500\n"
     ]
    }
   ],
   "source": [
    "\"\"\"\n",
    "    The main point of cloning objects using the Prototype pattern is to create new instances that are \n",
    " initially identical to existing ones but can be modified independently afterward\n",
    "    The key idea is that cloning allows you to start with a \"template\" object \n",
    "and then customize the clone as needed, without affecting the original object or its other clones.\n",
    "\n",
    "    Not that useful in Python, as it has built-in support for object copying.\n",
    "\n",
    "The main components of the Prototype pattern are:\n",
    "1.  Prototype: the interface that all objects supporting cloning must implement.\n",
    "2.  ConcretePrototype: a class that implements the Prototype interface to support cloning.\n",
    "3.  Client: the code that uses the Prototype to create new objects by copying existing ones.\n",
    "\n",
    "Usage:\n",
    "1.  Graphic design application: get a copy of the shape with all its properties (e.g., size, color, position)\n",
    "2.  Game development: clone objects that represent units in the game\n",
    "\n",
    "\"\"\"\n",
    "\n",
    "print(\"Generic\")\n",
    "\n",
    "from abc import ABC, abstractmethod\n",
    "\n",
    "import copy\n",
    "\n",
    "class PaymentPrototype(ABC):\n",
    "    @abstractmethod\n",
    "    def clone(self):\n",
    "        raise NotImplementedError()\n",
    "\n",
    "class PayPalPaymentPrototype(PaymentPrototype):\n",
    "    def __init__(self, value):\n",
    "        self.value = value\n",
    "    def clone(self):\n",
    "        return copy.deepcopy(self)\n",
    "\n",
    "### Client code\n",
    "payment = PayPalPaymentPrototype(100500)\n",
    "clone1 = payment.clone()\n",
    "clone2 = payment.clone()\n",
    "\n",
    "print(clone1.value)\n",
    "print(clone2.value)"
   ]
  }
 ],
 "metadata": {
  "kernelspec": {
   "display_name": "base",
   "language": "python",
   "name": "python3"
  },
  "language_info": {
   "codemirror_mode": {
    "name": "ipython",
    "version": 3
   },
   "file_extension": ".py",
   "mimetype": "text/x-python",
   "name": "python",
   "nbconvert_exporter": "python",
   "pygments_lexer": "ipython3",
   "version": "3.11.8"
  }
 },
 "nbformat": 4,
 "nbformat_minor": 2
}
