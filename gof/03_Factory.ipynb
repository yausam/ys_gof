{
 "cells": [
  {
   "cell_type": "code",
   "execution_count": null,
   "metadata": {},
   "outputs": [
    {
     "name": "stdout",
     "output_type": "stream",
     "text": [
      "Generic\n",
      "Processing credit card payment...\n",
      "Processing PayPal payment...\n"
     ]
    }
   ],
   "source": [
    "\"\"\"\n",
    "    The client requests the creation of objects from the factory,\n",
    "and the factory decides which concrete product to instantiate based on the client's request.\n",
    "    The client remains decoupled from the specific implementations of the products\n",
    "\n",
    "The main components of the Factory pattern are\n",
    "1.  Abstract Product: declares the interface for the objects that the factory creates\n",
    "2.  Concrete Products: implements the Abstract Product interface\n",
    "3.  Factory: creates objects of the Concrete Products\n",
    "4.  Client: uses the factory to create objects of the Concrete Products\n",
    "\"\"\"\n",
    "\n",
    "print(\"Generic\")\n",
    "\n",
    "from abc import ABC, abstractmethod\n",
    "\n",
    "\n",
    "### Abstract Product\n",
    "class PaymentProcessor(ABC):\n",
    "    @abstractmethod\n",
    "    def process_payment(self):\n",
    "        raise NotImplementedError()\n",
    "\n",
    "\n",
    "### Concrete Products\n",
    "class CreditCardPaymentProcessor(PaymentProcessor):\n",
    "    def process_payment(self):\n",
    "        print(\"Processing credit card payment...\")\n",
    "\n",
    "\n",
    "class PayPalPaymentProcessor(PaymentProcessor):\n",
    "    def process_payment(self):\n",
    "        print(\"Processing PayPal payment...\")\n",
    "\n",
    "\n",
    "### Factory\n",
    "class PaymentProcessorFactory:\n",
    "    @staticmethod\n",
    "    def create_payment_processor(payment_method):\n",
    "        processors = {\n",
    "            \"credit_card\": CreditCardPaymentProcessor,\n",
    "            \"paypal\": PayPalPaymentProcessor,\n",
    "        }\n",
    "        processor_class = processors[payment_method]\n",
    "        # processor_class = processors.get(payment_method)\n",
    "        if processor_class:\n",
    "            return processor_class()\n",
    "        else:\n",
    "            raise ValueError(\"Unsupported payment method\")\n",
    "\n",
    "\n",
    "### Client code\n",
    "processor_1 = PaymentProcessorFactory.create_payment_processor(\"credit_card\")\n",
    "processor_2 = PaymentProcessorFactory.create_payment_processor(\"paypal\")\n",
    "processor_1.process_payment()\n",
    "processor_2.process_payment()"
   ]
  }
 ],
 "metadata": {
  "kernelspec": {
   "display_name": "ys_tut",
   "language": "python",
   "name": "python3"
  },
  "language_info": {
   "codemirror_mode": {
    "name": "ipython",
    "version": 3
   },
   "file_extension": ".py",
   "mimetype": "text/x-python",
   "name": "python",
   "nbconvert_exporter": "python",
   "pygments_lexer": "ipython3",
   "version": "3.13.1"
  }
 },
 "nbformat": 4,
 "nbformat_minor": 2
}
