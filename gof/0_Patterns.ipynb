{
 "cells": [
  {
   "cell_type": "code",
   "execution_count": 1,
   "metadata": {},
   "outputs": [
    {
     "name": "stdout",
     "output_type": "stream",
     "text": [
      "GoF\n"
     ]
    }
   ],
   "source": [
    "\"\"\"\n",
    "Questions:\n",
    "-- Please share an example and explain \"A\" OOP pattern in Python? \n",
    "Please add \"print\" statements to your code to explain the flow.\n",
    "Please use \"payments\" theme for the example.\n",
    "-- Please share an example of using \"A\" and \"B\" OOP patterns together in Python.\n",
    "Please kindly:\n",
    "* share an extended example (not a simplified one)) which makes it clear what is the purpose of both the \n",
    "patterns(meditator and observer)\n",
    "* add \"print\" statements to your code to explain the flow\n",
    "* use \"payments\" theme for the example\n",
    "\n",
    "\n",
    "CREATIONAL\n",
    "Creational patterns are ones that create objects, rather than having to instantiate objects directly. \n",
    "This gives the program more flexibility in deciding which objects need to be created for a given case.\n",
    "01.     Abstract factory - groups object factories that have a common theme.\n",
    "02.     Builder - constructs complex objects by separating construction and representation.\n",
    "03.     Factory - method creates objects without specifying the exact class to create.\n",
    "04.     Prototype - creates objects by cloning an existing object.\n",
    "05.     Singleton - restricts object creation for a class to only one instance.\n",
    "\n",
    "\n",
    "STRUCTURAL\n",
    "Structural patterns concern class and object composition. They use inheritance to compose interfaces \n",
    "and define ways to compose objects to obtain new functionality.\n",
    "06.     Adapter  -  allows classes with incompatible interfaces to work together by wrapping its own interface around that \n",
    "of an already existing class.\n",
    "07.     Bridge  -  decouples an abstraction from its implementation so that the two can vary independently.\n",
    "08.     Composite  -  composes zero-or-more similar objects so that they can be manipulated as one object.\n",
    "09.     Decorator  -  dynamically adds/overrides behavior in an existing method of an object.\n",
    "10.     Facade  -  provides a simplified interface to a large body of code.\n",
    "11.     Flyweight  -  reduces the cost of creating and manipulating a large number of similar objects.\n",
    "12.     Proxy  -  provides a placeholder for another object to control access, reduce cost, and reduce complexity.\n",
    "\n",
    "\n",
    "BEHAVIORAL\n",
    "Most behavioral design patterns are specifically concerned with communication between objects.\n",
    "13.     Chain of responsibility  -  delegates commands to a chain of processing objects.\n",
    "14.     Command  -  creates objects that encapsulate actions and parameters.\n",
    "15.     Interpreter  -  implements a specialized language.\n",
    "16.     Iterator  -  accesses the elements of an object sequentially without exposing its underlying representation.\n",
    "17.     Mediator  -  allows loose coupling between classes by being the only class that has detailed knowledge of their methods.\n",
    "18.     Memento  -  provides the ability to restore an object to its previous state (undo).\n",
    "19.     Observer  -  is a publish/subscribe pattern, which allows a number of observer objects to see an event.\n",
    "20.     State  -  allows an object to alter its behavior when its internal state changes.\n",
    "21.     Strategy  -  allows one of a family of algorithms to be selected on-the-fly at runtime.\n",
    "22.     Template method  -  defines the skeleton of an algorithm as an abstract class, allowing its subclasses \n",
    "to provide concrete behavior.\n",
    "23.     Visitor  -  separates an algorithm from an object structure by moving the hierarchy of methods into one object.\n",
    "\"\"\"\n",
    "\n",
    "print(\"GoF\")"
   ]
  }
 ],
 "metadata": {
  "kernelspec": {
   "display_name": "base",
   "language": "python",
   "name": "python3"
  },
  "language_info": {
   "codemirror_mode": {
    "name": "ipython",
    "version": 3
   },
   "file_extension": ".py",
   "mimetype": "text/x-python",
   "name": "python",
   "nbconvert_exporter": "python",
   "pygments_lexer": "ipython3",
   "version": "3.11.8"
  }
 },
 "nbformat": 4,
 "nbformat_minor": 2
}
