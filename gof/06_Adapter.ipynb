{
 "cells": [
  {
   "cell_type": "code",
   "execution_count": 1,
   "metadata": {},
   "outputs": [
    {
     "name": "stdout",
     "output_type": "stream",
     "text": [
      "Generic\n",
      "Making online payment of 100500.0 dollars\n"
     ]
    }
   ],
   "source": [
    "\"\"\"\n",
    "    The Adapter pattern is a structural design pattern that allows objects \n",
    "with incompatible interfaces to work together.\n",
    "    It involves a single class called the Adapter that is responsible for joining functionality \n",
    "of independent or incompatible interfaces.\n",
    "\n",
    "The main components of the Adapter pattern are:\n",
    "1.  Target: The interface that the client expects to interact with\n",
    "2.  Adaptee: Has the desired functionality but incompatible interface\n",
    "3.  Adapter: Adapts the Adaptee to the Target interface\n",
    "4.  Client: Uses the Target interface to interact with the Adaptee\n",
    "\n",
    "\"\"\"\n",
    "print(\"Generic\")\n",
    "\n",
    "### Adaptee. Has the desired functionality but incompatible interface\n",
    "class PaymentProcessor:\n",
    "    def process_payment(self, amount):\n",
    "        print(f\"Processing payment of {amount} dollars\")\n",
    "\n",
    "### Target. Interface that the client expects to interact with\n",
    "class OnlinePayment:\n",
    "    def make_payment(self, amount_in_cents):\n",
    "        print(f\"Making online payment of {amount_in_cents / 100} dollars\")\n",
    "\n",
    "### Adapter: Adapts the LegacyEmailService to the EmailService interface\n",
    "###    bridges the gap between the Target and Adaptee\n",
    "class OnlinePaymentAdapter(PaymentProcessor):\n",
    "    def __init__(self, online_payment):\n",
    "        self.online_payment = online_payment\n",
    "    def process_payment(self, amount):\n",
    "        # Convert dollars to cents for OnlinePayment\n",
    "        amount_in_cents = amount * 100\n",
    "        self.online_payment.make_payment(amount_in_cents)\n",
    "\n",
    "### Client code\n",
    "processor = PaymentProcessor()\n",
    "online_payment = OnlinePayment()\n",
    "adapter = OnlinePaymentAdapter(online_payment)\n",
    "adapter.process_payment(100500)"
   ]
  }
 ],
 "metadata": {
  "kernelspec": {
   "display_name": "base",
   "language": "python",
   "name": "python3"
  },
  "language_info": {
   "codemirror_mode": {
    "name": "ipython",
    "version": 3
   },
   "file_extension": ".py",
   "mimetype": "text/x-python",
   "name": "python",
   "nbconvert_exporter": "python",
   "pygments_lexer": "ipython3",
   "version": "3.11.8"
  }
 },
 "nbformat": 4,
 "nbformat_minor": 2
}
