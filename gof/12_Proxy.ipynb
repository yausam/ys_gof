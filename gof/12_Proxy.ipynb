{
 "cells": [
  {
   "cell_type": "code",
   "execution_count": 1,
   "metadata": {},
   "outputs": [
    {
     "name": "stdout",
     "output_type": "stream",
     "text": [
      "Generic\n",
      "Logging payment details...\n",
      "Payment method: credit card, Amount: 100\n",
      "Forwarding request to real payment processor...\n",
      "Processing credit card payment of $100\n",
      "Payment processing completed.\n"
     ]
    }
   ],
   "source": [
    "\"\"\"\n",
    "    The Proxy pattern is a structural design pattern that provides a surrogate or placeholder \n",
    "for another object to CONTROL ACCESS to it.\n",
    "    It allows you to add a level of indirection to control the access to the underlying object, \n",
    "which can be useful for various purposes such as implementing \n",
    "lazy initialization, access control, logging, caching, etc.\n",
    "\n",
    "The main components of the Proxy pattern are:\n",
    "1.  Subject: It is an interface that defines the common interface for the RealSubject and Proxy so that a Proxy can be used anywhere a RealSubject is expected.\n",
    "2.  RealSubject: It is the real object that the proxy represents.\n",
    "3.  Proxy: It is the object that acts as a surrogate for the RealSubject, controlling access to it.\n",
    "4.  Client: It is the class that uses the Proxy to request the RealSubject to perform a certain action.\n",
    "5.  Lazy initialization: It is a design pattern that delays the creation of an object until the first time it is needed.\n",
    "6.  Access control: It is a design pattern that restricts access to certain parts of the system.\n",
    "\n",
    "\"\"\"\n",
    "\n",
    "print(\"Generic\")\n",
    "\n",
    "from abc import ABC, abstractmethod\n",
    "\n",
    "### Abstract subject class\n",
    "class PaymentProcessor(ABC):\n",
    "    @abstractmethod\n",
    "    def process_payment(self, method: str, amount: float) -> None:\n",
    "        raise NotImplementedError()\n",
    "\n",
    "### Real subject class\n",
    "class CreditCardPaymentProcessor(PaymentProcessor):\n",
    "    def process_payment(self, method: str, amount: float) -> None:\n",
    "        print(f\"Processing {method} payment of ${amount}\")\n",
    "\n",
    "### Proxy class\n",
    "class PaymentProcessorProxy(PaymentProcessor):\n",
    "    def __init__(self, payment_processor: PaymentProcessor) -> None:\n",
    "        self._payment_processor = payment_processor\n",
    "    def process_payment(self, method: str, amount: float) -> None:\n",
    "        print(\"Logging payment details...\")\n",
    "        print(f\"Payment method: {method}, Amount: {amount}\")\n",
    "        print(\"Forwarding request to real payment processor...\")\n",
    "        self._payment_processor.process_payment(method, amount)\n",
    "        print(\"Payment processing completed.\")\n",
    "\n",
    "### Client code\n",
    "real_processor = CreditCardPaymentProcessor()\n",
    "proxy = PaymentProcessorProxy(real_processor)\n",
    "proxy.process_payment(\"credit card\", 100)"
   ]
  }
 ],
 "metadata": {
  "kernelspec": {
   "display_name": "base",
   "language": "python",
   "name": "python3"
  },
  "language_info": {
   "codemirror_mode": {
    "name": "ipython",
    "version": 3
   },
   "file_extension": ".py",
   "mimetype": "text/x-python",
   "name": "python",
   "nbconvert_exporter": "python",
   "pygments_lexer": "ipython3",
   "version": "3.11.8"
  }
 },
 "nbformat": 4,
 "nbformat_minor": 2
}
