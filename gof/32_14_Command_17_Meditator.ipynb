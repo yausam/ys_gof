{
 "cells": [
  {
   "cell_type": "code",
   "execution_count": 1,
   "metadata": {},
   "outputs": [],
   "source": [
    "### Command Pattern\n",
    "class Command:\n",
    "    def execute(self):\n",
    "        pass\n",
    "\n",
    "class TurnOnLightCommand(Command):\n",
    "    def __init__(self, light):\n",
    "        self.light = light\n",
    "    def execute(self):\n",
    "        self.light.turn_on()\n",
    "\n",
    "class TurnOffLightCommand(Command):\n",
    "    def __init__(self, light):\n",
    "        self.light = light\n",
    "    def execute(self):\n",
    "        self.light.turn_off()\n",
    "\n",
    "### Mediator\n",
    "### Meditator acts as Invoker in this case\n",
    "class SmartHomeMediator:\n",
    "    def __init__(self):\n",
    "        self.commands = {}\n",
    "    def register_command(self, voice_command, command):\n",
    "        self.commands[voice_command] = command\n",
    "    def process_voice_command(self, voice_command):\n",
    "        command = self.commands.get(voice_command)\n",
    "        if command:\n",
    "            command.execute()\n",
    "        else:\n",
    "            print(\"Command not recognized.\")\n",
    "\n",
    "### Smart Devices\n",
    "class Light:\n",
    "    def __init__(self, location):\n",
    "        self.location = location\n",
    "        self.is_on = False\n",
    "    def turn_on(self):\n",
    "        self.is_on = True\n",
    "        print(f\"Turned on the {self.location} lights.\")\n",
    "    def turn_off(self):\n",
    "        self.is_on = False\n",
    "        print(f\"Turned off the {self.location} lights.\")"
   ]
  },
  {
   "cell_type": "code",
   "execution_count": 2,
   "metadata": {},
   "outputs": [
    {
     "name": "stdout",
     "output_type": "stream",
     "text": [
      "Voice command: 'Turn on the living room lights'\n",
      "Turned on the Living Room lights.\n",
      "Voice command: 'Turn off the kitchen lights'\n",
      "Turned off the Kitchen lights.\n",
      "Voice command: 'Dim the hallway lights'\n",
      "Command not recognized.\n"
     ]
    }
   ],
   "source": [
    "### Client code\n",
    "### Initialize smart devices\n",
    "living_room_light = Light(\"Living Room\")\n",
    "kitchen_light = Light(\"Kitchen\")\n",
    "\n",
    "### Initialize mediator\n",
    "mediator = SmartHomeMediator()\n",
    "\n",
    "### Register voice commands with corresponding commands\n",
    "mediator.register_command(\"Turn on the living room lights\", TurnOnLightCommand(living_room_light))\n",
    "mediator.register_command(\"Turn off the living room lights\", TurnOffLightCommand(living_room_light))\n",
    "mediator.register_command(\"Turn on the kitchen lights\", TurnOnLightCommand(kitchen_light))\n",
    "mediator.register_command(\"Turn off the kitchen lights\", TurnOffLightCommand(kitchen_light))\n",
    "\n",
    "### Simulate voice commands\n",
    "voice_commands = [\n",
    "    \"Turn on the living room lights\",\n",
    "    \"Turn off the kitchen lights\",\n",
    "    \"Dim the hallway lights\",  # Unknown command\n",
    "]\n",
    "\n",
    "### Process voice commands\n",
    "for command in voice_commands:\n",
    "    print(f\"Voice command: '{command}'\")\n",
    "    mediator.process_voice_command(command)"
   ]
  }
 ],
 "metadata": {
  "kernelspec": {
   "display_name": "base",
   "language": "python",
   "name": "python3"
  },
  "language_info": {
   "codemirror_mode": {
    "name": "ipython",
    "version": 3
   },
   "file_extension": ".py",
   "mimetype": "text/x-python",
   "name": "python",
   "nbconvert_exporter": "python",
   "pygments_lexer": "ipython3",
   "version": "3.11.8"
  }
 },
 "nbformat": 4,
 "nbformat_minor": 2
}
