{
 "cells": [
  {
   "cell_type": "code",
   "execution_count": 1,
   "metadata": {},
   "outputs": [
    {
     "name": "stdout",
     "output_type": "stream",
     "text": [
      "Generic\n",
      "Total fee: 0.06\n"
     ]
    }
   ],
   "source": [
    "\"\"\"\n",
    "    A way of separating an algorithm from an object structure on which it operates which enables to define \n",
    "a new operation without changing the classes of the elements on which it operates. \n",
    "    This is useful when to handle a complex hierarchy of objects and you want to perform \n",
    "different operations on them without modifying their code.\n",
    "    Allows us to define new operations (new visitors) without modifying the classes of the elements being visited.\n",
    "\n",
    "The main components of the visitor pattern are:\n",
    "1.  Element: Interface that defines the accept method to accept a visitor.\n",
    "2.  ConcreteElement: Implements the accept method to accept a visitor.\n",
    "3.  Visitor: Interface that defines the visit methods for each type of element in the object structure.\n",
    "4.  ConcreteVisitor: Implements the visit methods for each type of element in the object structure.\n",
    "5.  ObjectStructure: A collection of elements that can be visited by a visitor.\n",
    "6.  Client: Uses the visitor pattern to visit different elements in the object structure.\n",
    "\n",
    "\"\"\"\n",
    "\n",
    "print(\"Generic\")\n",
    "\n",
    "from abc import ABC, abstractmethod\n",
    "\n",
    "### Element / ConcreteElement\n",
    "class Payment(ABC):\n",
    "    @abstractmethod\n",
    "    def accept(self, visitor):\n",
    "        raise NotImplementedError()\n",
    "\n",
    "class CreditCardPayment(Payment):\n",
    "    def accept(self, visitor):\n",
    "        visitor.visit_credit_card_payment(self)\n",
    "\n",
    "class PayPalPayment(Payment):\n",
    "    def accept(self, visitor):\n",
    "        visitor.visit_paypal_payment(self)\n",
    "\n",
    "class BankTransferPayment(Payment):\n",
    "    def accept(self, visitor):\n",
    "        visitor.visit_bank_transfer_payment(self)\n",
    "\n",
    "### Visitor / ConcreteVisitor\n",
    "class PaymentVisitor(ABC):\n",
    "    @abstractmethod\n",
    "    def visit_credit_card_payment(self, payment):\n",
    "        raise NotImplementedError()\n",
    "    @abstractmethod\n",
    "    def visit_paypal_payment(self, payment):\n",
    "        raise NotImplementedError()\n",
    "    @abstractmethod\n",
    "    def visit_bank_transfer_payment(self, payment):\n",
    "        raise NotImplementedError()\n",
    "\n",
    "class FeeCalculatorVisitor(PaymentVisitor):\n",
    "    def __init__(self):\n",
    "        self.total_fee = 0\n",
    "    def visit_credit_card_payment(self, payment):\n",
    "        ### 2% fee for credit card payments\n",
    "        self.total_fee += 0.02  \n",
    "    def visit_paypal_payment(self, payment):\n",
    "        ### 3% fee for PayPal payments\n",
    "        self.total_fee += 0.03\n",
    "    def visit_bank_transfer_payment(self, payment):\n",
    "        ### 1% fee for bank transfer payments\n",
    "        self.total_fee += 0.01\n",
    "\n",
    "### Client code:\n",
    "def calculate_total_fee(payments):\n",
    "    visitor = FeeCalculatorVisitor()\n",
    "    for payment in payments:\n",
    "        payment.accept(visitor)\n",
    "    return round(visitor.total_fee, 4)\n",
    "\n",
    "credit_card_payment = CreditCardPayment()\n",
    "paypal_payment = PayPalPayment()\n",
    "bank_transfer_payment = BankTransferPayment()\n",
    "\n",
    "total_fee = calculate_total_fee([credit_card_payment, paypal_payment, bank_transfer_payment])\n",
    "print(\"Total fee:\", total_fee)"
   ]
  }
 ],
 "metadata": {
  "kernelspec": {
   "display_name": "base",
   "language": "python",
   "name": "python3"
  },
  "language_info": {
   "codemirror_mode": {
    "name": "ipython",
    "version": 3
   },
   "file_extension": ".py",
   "mimetype": "text/x-python",
   "name": "python",
   "nbconvert_exporter": "python",
   "pygments_lexer": "ipython3",
   "version": "3.11.8"
  }
 },
 "nbformat": 4,
 "nbformat_minor": 2
}
