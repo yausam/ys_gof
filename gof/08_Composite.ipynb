{
 "cells": [
  {
   "cell_type": "code",
   "execution_count": 1,
   "metadata": {},
   "outputs": [
    {
     "name": "stdout",
     "output_type": "stream",
     "text": [
      "Generic\n",
      "Amount for A: 10\n",
      "Amount for B: 20\n",
      "Amount for C=A+B: 30\n",
      "Amount for D: 15\n",
      "Amount for E=C+D: 45\n"
     ]
    }
   ],
   "source": [
    "\"\"\"\n",
    "    The Composite pattern simplifies the client code by treating \n",
    "both individual objects and compositions of objects uniformly,\n",
    "allowing for the construction of complex hierarchical structures.\n",
    "\n",
    "    Represents both individual employees and groups of employees in a unified manner.\n",
    "\n",
    "The main components of the Composite pattern are:\n",
    "1.  Component: Common interface for both leaf and composite objects\n",
    "2.  Leaf: Represents an individual employee\n",
    "3.  Composite: Represents a manager overseeing a team of employees\n",
    "4.  Client: Uses the component interface to interact with objects in the composition\n",
    "\n",
    "\"\"\"\n",
    "\n",
    "print(\"Generic\")\n",
    "\n",
    "from abc import ABC, abstractmethod\n",
    "\n",
    "### Component\n",
    "class Payment(ABC):\n",
    "    @abstractmethod\n",
    "    def process_payment(self):\n",
    "        raise NotImplementedError()\n",
    "\n",
    "### Leaf\n",
    "class SinglePayment(Payment):\n",
    "    def __init__(self, name, amount):\n",
    "        self.name = name\n",
    "        self.amount = amount\n",
    "    def process_payment(self):\n",
    "        return self.amount\n",
    "\n",
    "### Composite\n",
    "class CompositePayment(Payment):\n",
    "    def __init__(self, name, payments=None):\n",
    "        self.name = name\n",
    "        self.payments = payments or []\n",
    "    def add_payment(self, payment):\n",
    "        self.payments.append(payment)\n",
    "        return self\n",
    "    def remove_payment(self, payment):\n",
    "        self.payments.remove(payment)\n",
    "        return self\n",
    "    def process_payment(self):\n",
    "        total_amount = sum(payment.process_payment() for payment in self.payments)\n",
    "        return total_amount\n",
    "\n",
    "### Client code\n",
    "payment_A = SinglePayment(name=\"A\", amount=10)\n",
    "payment_B = SinglePayment(name=\"B\", amount=20)\n",
    "payment_C = CompositePayment(\"C=A+B\").add_payment(payment_A).add_payment(payment_B)\n",
    "payment_D = SinglePayment(name=\"D\", amount=15)\n",
    "payment_E = CompositePayment(\"E=C+D\").add_payment(payment_C).add_payment(payment_D)\n",
    "\n",
    "for payment in (payment_A, payment_B, payment_C, payment_D, payment_E):\n",
    "    print(f\"Amount for {payment.name}: {payment.process_payment()}\")"
   ]
  }
 ],
 "metadata": {
  "kernelspec": {
   "display_name": "base",
   "language": "python",
   "name": "python3"
  },
  "language_info": {
   "codemirror_mode": {
    "name": "ipython",
    "version": 3
   },
   "file_extension": ".py",
   "mimetype": "text/x-python",
   "name": "python",
   "nbconvert_exporter": "python",
   "pygments_lexer": "ipython3",
   "version": "3.11.8"
  }
 },
 "nbformat": 4,
 "nbformat_minor": 2
}
