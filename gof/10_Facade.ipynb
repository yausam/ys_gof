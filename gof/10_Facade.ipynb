{
 "cells": [
  {
   "cell_type": "code",
   "execution_count": 1,
   "metadata": {},
   "outputs": [
    {
     "name": "stdout",
     "output_type": "stream",
     "text": [
      "Generic\n",
      "Processing credit card payment of $100\n",
      "Processing PayPal payment of $50\n",
      "Processing Bitcoin payment of $200\n",
      "Invalid payment method\n"
     ]
    }
   ],
   "source": [
    "\"\"\"\n",
    "    The Facade pattern is used to provide a simplified interface to a complex system of classes, \n",
    "making it easier to use.\n",
    "\n",
    "The main components of the Facade pattern are:\n",
    "1.  Facade: This is the main class that clients use to trigger the subsystems.\n",
    "2.  Subsystem: These are the classes that are used by the Facade to perform the operations.\n",
    "3.  Client: This is the class that uses the Facade to trigger the subsystems.\n",
    "\n",
    "\"\"\"\n",
    "\n",
    "print(\"Generic\")\n",
    "\n",
    "### Subsystem classes\n",
    "class CreditCard:\n",
    "    def process_payment(self, amount):\n",
    "        print(f\"Processing credit card payment of ${amount}\")\n",
    "\n",
    "class PayPal:\n",
    "    def process_payment(self, amount):\n",
    "        print(f\"Processing PayPal payment of ${amount}\")\n",
    "\n",
    "class Bitcoin:\n",
    "    def process_payment(self, amount):\n",
    "        print(f\"Processing Bitcoin payment of ${amount}\")\n",
    "\n",
    "### Facade class\n",
    "class PaymentFacade:\n",
    "    def __init__(self):\n",
    "        self.credit_card = CreditCard()\n",
    "        self.paypal = PayPal()\n",
    "        self.bitcoin = Bitcoin()\n",
    "    def make_payment(self, method, amount):\n",
    "        if method == \"credit card\":\n",
    "            self.credit_card.process_payment(amount)\n",
    "        elif method == \"paypal\":\n",
    "            self.paypal.process_payment(amount)\n",
    "        elif method == \"bitcoin\":\n",
    "            self.bitcoin.process_payment(amount)\n",
    "        else:\n",
    "            print(\"Invalid payment method\")\n",
    "\n",
    "### Client code\n",
    "facade = PaymentFacade()\n",
    "facade.make_payment(\"credit card\", 100)\n",
    "facade.make_payment(\"paypal\", 50)\n",
    "facade.make_payment(\"bitcoin\", 200)\n",
    "facade.make_payment(\"invalid\", 50)"
   ]
  }
 ],
 "metadata": {
  "kernelspec": {
   "display_name": "base",
   "language": "python",
   "name": "python3"
  },
  "language_info": {
   "codemirror_mode": {
    "name": "ipython",
    "version": 3
   },
   "file_extension": ".py",
   "mimetype": "text/x-python",
   "name": "python",
   "nbconvert_exporter": "python",
   "pygments_lexer": "ipython3",
   "version": "3.11.8"
  }
 },
 "nbformat": 4,
 "nbformat_minor": 2
}
