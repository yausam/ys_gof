{
 "cells": [
  {
   "cell_type": "code",
   "execution_count": 1,
   "metadata": {},
   "outputs": [
    {
     "name": "stdout",
     "output_type": "stream",
     "text": [
      "Generic\n",
      "  Current item: Item 1\n",
      "  Current item: Item 2\n",
      "  Current item: Item 3\n"
     ]
    }
   ],
   "source": [
    "\"\"\"\n",
    "    Allows to iterate over elements of a collection without exposing its underlying implementation details.\n",
    "\n",
    "The main components of the Iterator pattern are:\n",
    "1.  Iterator: This is an interface that defines the operations required for traversing the elements of a collection. \n",
    "It should have methods like has_next and next.\n",
    "2.  ConcreteIterator: This is a class that implements the Iterator interface. It keeps track of the current position \n",
    "in the traversal of the collection.\n",
    "3.  Collection: This is an interface that defines the operations required for working with the elements of a collection. \n",
    "It should have a method that returns an Iterator.\n",
    "4.  ConcreteCollection: This is a class that implements the Collection interface. It should have a method that returns \n",
    "a ConcreteIterator.\n",
    "5.  Client: This is a class that uses the Iterator and Collection interfaces to traverse the elements of a collection.\n",
    "\n",
    "Examples/usage:\n",
    "Never used in the form below? It's a common pattern in Python to use the __iter__ and __next__ methods to create an iterator.\n",
    "\n",
    "\"\"\"\n",
    "\n",
    "print(\"Generic\")\n",
    "\n",
    "class Payments:\n",
    "    def __init__(self):\n",
    "        self.items = []\n",
    "    def add_payment(self, item):\n",
    "        self.items.append(item)\n",
    "    def create_iterator(self):\n",
    "        return Iterator(self.items)\n",
    "\n",
    "class Iterator:\n",
    "    def __init__(self, payments):\n",
    "        self.payments = payments\n",
    "        self.index = 0\n",
    "    def has_next(self):\n",
    "        return self.index < len(self.payments)\n",
    "    def next(self):\n",
    "        if not self.has_next():\n",
    "            raise StopIteration(\"No more payments\")\n",
    "        item = self.payments[self.index]\n",
    "        self.index += 1\n",
    "        return item\n",
    "\n",
    "### Client code\n",
    "payments = Payments()\n",
    "payments.add_payment(\"Item 1\")\n",
    "payments.add_payment(\"Item 2\")\n",
    "payments.add_payment(\"Item 3\")\n",
    "\n",
    "iterator = payments.create_iterator()\n",
    "\n",
    "while iterator.has_next():\n",
    "    item = iterator.next()\n",
    "    print(\"  Current item:\", item)"
   ]
  },
  {
   "cell_type": "code",
   "execution_count": 2,
   "metadata": {},
   "outputs": [
    {
     "name": "stdout",
     "output_type": "stream",
     "text": [
      "More Pythonic\n",
      "10\n",
      "15\n",
      "20\n"
     ]
    }
   ],
   "source": [
    "print(\"More Pythonic\")\n",
    "\n",
    "class PaymentRange:\n",
    "    def __init__(self, start, end, step=1):\n",
    "        self.current = start\n",
    "        self.end = end\n",
    "        self.step = step\n",
    "    def __iter__(self):\n",
    "        return self\n",
    "    def __next__(self):\n",
    "        if self.current >= self.end:\n",
    "            raise StopIteration\n",
    "        else:\n",
    "            current_payment = self.current\n",
    "            self.current += self.step\n",
    "            return current_payment\n",
    "\n",
    "### Client Code\n",
    "payment_range = PaymentRange(10, 25, 5)\n",
    "for payment_amount in payment_range:\n",
    "    print(payment_amount)"
   ]
  }
 ],
 "metadata": {
  "kernelspec": {
   "display_name": "base",
   "language": "python",
   "name": "python3"
  },
  "language_info": {
   "codemirror_mode": {
    "name": "ipython",
    "version": 3
   },
   "file_extension": ".py",
   "mimetype": "text/x-python",
   "name": "python",
   "nbconvert_exporter": "python",
   "pygments_lexer": "ipython3",
   "version": "3.11.8"
  }
 },
 "nbformat": 4,
 "nbformat_minor": 2
}
