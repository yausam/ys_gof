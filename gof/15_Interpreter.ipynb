{
 "cells": [
  {
   "cell_type": "code",
   "execution_count": 1,
   "metadata": {},
   "outputs": [
    {
     "name": "stdout",
     "output_type": "stream",
     "text": [
      "Generic\n",
      "Evaluating Plus:\n",
      "Evaluating Number(1)\n",
      "Evaluating Minus:\n",
      "Evaluating Number(3)\n",
      "Evaluating Number(5)\n",
      "  3 - 5\n",
      "  1 + -2\n",
      "Result: -1\n"
     ]
    }
   ],
   "source": [
    "\"\"\"\n",
    "    Defines a syntax tree representation of the grammar that corresponds to the sentences of the language \n",
    "and implements an interpreter that can evaluate these syntax trees.\n",
    "\n",
    "The main components of the Interpreter pattern are:\n",
    "1.  AbstractExpression: declares an abstract Interpret operation that is common to all nodes in the abstract syntax tree.\n",
    "2.  TerminalExpression: implements an Interpret operation associated with terminal symbols in the grammar.\n",
    "3.  NonterminalExpression: one such class is required for every rule R ::= R1 R2 ... Rn in the grammar. Each class\n",
    "    contains fields that hold references to the type of the nonterminal’s children.\n",
    "4.  Context: contains information that’s global to the interpreter.\n",
    "5.  Client: builds (or is given) an abstract syntax tree representing a particular sentence in the language \n",
    "that the grammar defines. The client initializes the context and then invokes the Interpret operation.\n",
    "\n",
    "\"\"\"\n",
    "\n",
    "print(\"Generic\")\n",
    "\n",
    "from abc import ABC, abstractmethod\n",
    "\n",
    "class Expression(ABC):\n",
    "    @abstractmethod \n",
    "    def interpret(self, context):\n",
    "        raise NotImplementedError()\n",
    "\n",
    "class Number(Expression):\n",
    "    def __init__(self, value):\n",
    "        self.value = value\n",
    "    def interpret(self, context):\n",
    "        print(f\"Evaluating Number({self.value})\")\n",
    "        return self.value\n",
    "\n",
    "class Plus(Expression):\n",
    "    def __init__(self, left, right):\n",
    "        self.left = left\n",
    "        self.right = right\n",
    "\n",
    "    def interpret(self, context):\n",
    "        print(\"Evaluating Plus:\")\n",
    "        left_result = self.left.interpret(context)\n",
    "        right_result = self.right.interpret(context)\n",
    "        print(f\"  {left_result} + {right_result}\")\n",
    "        return left_result + right_result\n",
    "\n",
    "class Minus(Expression):\n",
    "    def __init__(self, left, right):\n",
    "        self.left = left\n",
    "        self.right = right\n",
    "    def interpret(self, context):\n",
    "        print(\"Evaluating Minus:\")\n",
    "        left_result = self.left.interpret(context)\n",
    "        right_result = self.right.interpret(context)\n",
    "        print(f\"  {left_result} - {right_result}\")\n",
    "        return left_result - right_result\n",
    "\n",
    "### Client code\n",
    "expression = Plus(Number(1), Minus(Number(3), Number(5)))\n",
    "result = expression.interpret(None)\n",
    "print(\"Result:\", result)"
   ]
  }
 ],
 "metadata": {
  "kernelspec": {
   "display_name": "base",
   "language": "python",
   "name": "python3"
  },
  "language_info": {
   "codemirror_mode": {
    "name": "ipython",
    "version": 3
   },
   "file_extension": ".py",
   "mimetype": "text/x-python",
   "name": "python",
   "nbconvert_exporter": "python",
   "pygments_lexer": "ipython3",
   "version": "3.11.8"
  }
 },
 "nbformat": 4,
 "nbformat_minor": 2
}
