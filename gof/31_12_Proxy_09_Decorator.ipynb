{
 "cells": [
  {
   "cell_type": "code",
   "execution_count": 1,
   "metadata": {},
   "outputs": [
    {
     "name": "stdout",
     "output_type": "stream",
     "text": [
      "Accessed sensitive data: Sensitive data from the real data source\n",
      "Received data: Sensitive data from the real data source\n"
     ]
    }
   ],
   "source": [
    "from abc import ABC, abstractmethod\n",
    "\n",
    "### Interface for the data source\n",
    "class DataSource(ABC):\n",
    "    @abstractmethod\n",
    "    def get_data(self):\n",
    "        pass\n",
    "\n",
    "### Concrete implementation of the data source\n",
    "class RealDataSource(DataSource):\n",
    "    def get_data(self):\n",
    "        return \"Sensitive data from the real data source\"\n",
    "\n",
    "### Proxy class to control access to the data source\n",
    "class DataSourceProxy(DataSource):\n",
    "    def __init__(self, real_data_source):\n",
    "        self._real_data_source = real_data_source\n",
    "    def get_data(self):\n",
    "        # Perform access control logic here (e.g., check permissions)\n",
    "        # For simplicity, we'll just allow access without any checks\n",
    "        return self._real_data_source.get_data()\n",
    "\n",
    "### Decorator class to add logging functionality\n",
    "class LoggingDecorator(DataSource):\n",
    "    def __init__(self, wrapped_data_source):\n",
    "        self._wrapped_data_source = wrapped_data_source\n",
    "    def get_data(self):\n",
    "        data = self._wrapped_data_source.get_data()\n",
    "        self._log_data_access(data)\n",
    "        return data\n",
    "\n",
    "    def _log_data_access(self, data):\n",
    "        print(f\"Accessed sensitive data: {data}\")\n",
    "\n",
    "### Client code\n",
    "### Create the real data source\n",
    "real_data_source = RealDataSource()\n",
    "\n",
    "### Create a proxy to control access to the data source\n",
    "proxy = DataSourceProxy(real_data_source)\n",
    "\n",
    "### Wrap the proxy with a logging decorator\n",
    "decorated_proxy = LoggingDecorator(proxy)\n",
    "\n",
    "### Access the data through the decorated proxy\n",
    "data = decorated_proxy.get_data()\n",
    "print(\"Received data:\", data)"
   ]
  },
  {
   "cell_type": "code",
   "execution_count": 2,
   "metadata": {},
   "outputs": [
    {
     "name": "stdout",
     "output_type": "stream",
     "text": [
      "Access denied: User does not have sufficient privileges to process documents.\n",
      "\n",
      "--------------------------------------------------\n",
      "\n",
      "Access granted: Processing document with admin privileges.\n",
      "[2024-03-24 02:26:39.331895] - Logging before processing document.\n",
      "Processing document: Admin's Document Content\n",
      "[2024-03-24 02:26:39.331895] - Logging after processing document.\n"
     ]
    }
   ],
   "source": [
    "from abc import ABC, abstractmethod\n",
    "import datetime\n",
    "\n",
    "### Component Interface\n",
    "class DocumentProcessor(ABC):\n",
    "    @abstractmethod\n",
    "    def process_document(self, content):\n",
    "        pass\n",
    "\n",
    "### Concrete Component\n",
    "class BasicDocumentProcessor(DocumentProcessor):\n",
    "    def process_document(self, content):\n",
    "        print(f\"Processing document: {content}\")\n",
    "\n",
    "### Decorator\n",
    "class DocumentProcessorDecorator(DocumentProcessor):\n",
    "    def __init__(self, document_processor):\n",
    "        self._document_processor = document_processor\n",
    "\n",
    "    def process_document(self, content):\n",
    "        self._document_processor.process_document(content)\n",
    "\n",
    "### Concrete Decorator: Adding logging functionality\n",
    "class LoggingDocumentProcessor(DocumentProcessorDecorator):\n",
    "    def process_document(self, content):\n",
    "        print(f\"[{datetime.datetime.now()}] - Logging before processing document.\")\n",
    "        super().process_document(content)\n",
    "        print(f\"[{datetime.datetime.now()}] - Logging after processing document.\")\n",
    "\n",
    "### Proxy: Controlling access based on user role\n",
    "class ProxyDocumentProcessor(DocumentProcessor):\n",
    "    def __init__(self, document_processor, user_role):\n",
    "        self._document_processor = document_processor\n",
    "        self._user_role = user_role\n",
    "\n",
    "    def process_document(self, content):\n",
    "        if self._user_role != \"admin\":\n",
    "            print(\"Access denied: User does not have sufficient privileges to process documents.\")\n",
    "            return\n",
    "        print(\"Access granted: Processing document with admin privileges.\")\n",
    "        self._document_processor.process_document(content)\n",
    "\n",
    "### Client code\n",
    "### User without admin privileges\n",
    "basic_processor = BasicDocumentProcessor()\n",
    "logged_processor = LoggingDocumentProcessor(basic_processor)\n",
    "user_processor = ProxyDocumentProcessor(logged_processor, user_role=\"user\")\n",
    "user_processor.process_document(\"User's Document Content\")\n",
    "\n",
    "print(\"\\n\" + \"-\"*50 + \"\\n\")\n",
    "\n",
    "### User with admin privileges\n",
    "admin_processor = ProxyDocumentProcessor(logged_processor, user_role=\"admin\")\n",
    "admin_processor.process_document(\"Admin's Document Content\")"
   ]
  }
 ],
 "metadata": {
  "kernelspec": {
   "display_name": "base",
   "language": "python",
   "name": "python3"
  },
  "language_info": {
   "codemirror_mode": {
    "name": "ipython",
    "version": 3
   },
   "file_extension": ".py",
   "mimetype": "text/x-python",
   "name": "python",
   "nbconvert_exporter": "python",
   "pygments_lexer": "ipython3",
   "version": "3.11.8"
  }
 },
 "nbformat": 4,
 "nbformat_minor": 2
}
