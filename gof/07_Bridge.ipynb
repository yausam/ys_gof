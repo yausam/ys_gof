{
 "cells": [
  {
   "cell_type": "code",
   "execution_count": 1,
   "metadata": {},
   "outputs": [
    {
     "name": "stdout",
     "output_type": "stream",
     "text": [
      "Generic\n",
      "Processing payment via card payment system\n",
      "Processing card payment of 100 dollars\n",
      "Processing payment via online payment system\n",
      "Making online payment of 500 dollars\n"
     ]
    }
   ],
   "source": [
    "\"\"\"\n",
    "    The Bridge pattern is a structural design pattern that decouples an abstraction \n",
    "from its implementation so that they can vary independently.\n",
    "    It is useful when you want to separate a complex system into multiple hierarchies, \n",
    "allowing them to evolve independently\n",
    "\n",
    "    The Bridge pattern is especially useful when dealing with cross-platform.\n",
    "    Abstractions can be paired with different implementations at runtime, \n",
    "allowing you to change the behavior of objects dynamically.\n",
    "\n",
    "The main components of the Bridge pattern are:\n",
    "1.  Abstraction: The interface that clients interact with\n",
    "2.  Refined Abstraction: A subclass of Abstraction\n",
    "3.  Implementor: The interface that provides concrete implementations\n",
    "4.  Concrete Implementations: Subclasses of Implementor\n",
    "5.  Client: The class that uses the Abstraction to interact with the Implementor\n",
    "6.  (!) The Bridge pattern is similar to the Adapter pattern, but it is used to separate\n",
    "\n",
    "\"\"\"\n",
    "\n",
    "print(\"Generic\")\n",
    "\n",
    "from abc import ABC, abstractmethod\n",
    "\n",
    "### Abstraction\n",
    "class PaymentProcessor(ABC):\n",
    "    def __init__(self, payment_system):\n",
    "        self.payment_system = payment_system\n",
    "    @abstractmethod\n",
    "    def process_payment(self, amount):\n",
    "        raise NotImplementedError()\n",
    "\n",
    "### Refined Abstraction\n",
    "class CardPaymentProcessor(PaymentProcessor):\n",
    "    def process_payment(self, amount):\n",
    "        print(\"Processing payment via card payment system\")\n",
    "        self.payment_system.process_payment(amount)\n",
    "\n",
    "class OnlinePaymentProcessor(PaymentProcessor):\n",
    "    def process_payment(self, amount):\n",
    "        print(\"Processing payment via online payment system\")\n",
    "        self.payment_system.process_payment(amount)\n",
    "\n",
    "### Implementor\n",
    "class PaymentSystem(ABC):\n",
    "    @abstractmethod\n",
    "    def process_payment(self, amount):\n",
    "        raise NotImplementedError()\n",
    "\n",
    "### Concrete Implementors\n",
    "class CardPaymentSystem(PaymentSystem):\n",
    "    def process_payment(self, amount):\n",
    "        print(f\"Processing card payment of {amount} dollars\")\n",
    "\n",
    "class OnlinePaymentSystem(PaymentSystem):\n",
    "    def process_payment(self, amount):\n",
    "        print(f\"Making online payment of {amount} dollars\")\n",
    "\n",
    "### Client code\n",
    "card_payment_system = CardPaymentSystem()\n",
    "online_payment_system = OnlinePaymentSystem()\n",
    "card_processor = CardPaymentProcessor(card_payment_system)\n",
    "online_processor = OnlinePaymentProcessor(online_payment_system)\n",
    "card_processor.process_payment(100)\n",
    "online_processor.process_payment(500)"
   ]
  }
 ],
 "metadata": {
  "kernelspec": {
   "display_name": "base",
   "language": "python",
   "name": "python3"
  },
  "language_info": {
   "codemirror_mode": {
    "name": "ipython",
    "version": 3
   },
   "file_extension": ".py",
   "mimetype": "text/x-python",
   "name": "python",
   "nbconvert_exporter": "python",
   "pygments_lexer": "ipython3",
   "version": "3.11.8"
  }
 },
 "nbformat": 4,
 "nbformat_minor": 2
}
