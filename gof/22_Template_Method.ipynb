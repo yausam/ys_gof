{
 "cells": [
  {
   "cell_type": "code",
   "execution_count": 1,
   "metadata": {},
   "outputs": [
    {
     "name": "stdout",
     "output_type": "stream",
     "text": [
      "Generic\n",
      "Validating PayPal payment\n",
      "Authorizing PayPal payment\n",
      "Finalizing PayPal payment\n",
      "Validating Credit Card payment\n",
      "Authorizing Credit Card payment\n",
      "Finalizing Credit Card payment\n"
     ]
    }
   ],
   "source": [
    "\"\"\"\n",
    "    Template Method pattern allows you to define the skeleton of an algorithm in the abstract class \n",
    "while allowing concrete subclasses to provide specific implementations for certain steps of the algorithm.\n",
    "    Used in other OOP pattern, e.g. Factory Method, Strategy, and State patterns.\n",
    "\n",
    "    \n",
    "The main components of the Template Method pattern are:\n",
    "1.  AbstractClass: This is the abstract class that defines the template method and the abstract methods \n",
    "that the concrete classes should implement.\n",
    "2.  ConcreteClass: These are the concrete classes that implement the abstract methods defined in the AbstractClass.\n",
    "3.  Template Method: This is the method that defines the algorithm and calls the abstract methods defined in the AbstractClass.\n",
    "4.  Client: This is the class that uses the AbstractClass to call the template method.\n",
    "\n",
    "\"\"\"\n",
    "\n",
    "print(\"Generic\")\n",
    "\n",
    "from abc import ABC, abstractmethod\n",
    "\n",
    "class PaymentProcessor(ABC):\n",
    "    def process_payment(self):\n",
    "        self.validate_payment()\n",
    "        self.authorize_payment()\n",
    "        self.finalize_payment()\n",
    "    @abstractmethod\n",
    "    def validate_payment(self):\n",
    "        raise NotImplementedError()\n",
    "    @abstractmethod\n",
    "    def authorize_payment(self):\n",
    "        raise NotImplementedError()\n",
    "    @abstractmethod\n",
    "    def finalize_payment(self):\n",
    "        raise NotImplementedError()\n",
    "\n",
    "class CreditCardPaymentProcessor(PaymentProcessor):\n",
    "    def validate_payment(self):\n",
    "        print(\"Validating Credit Card payment\")\n",
    "    def authorize_payment(self):\n",
    "        print(\"Authorizing Credit Card payment\")\n",
    "    def finalize_payment(self):\n",
    "        print(\"Finalizing Credit Card payment\")\n",
    "\n",
    "class PayPalPaymentProcessor(PaymentProcessor):\n",
    "    def validate_payment(self):\n",
    "        print(\"Validating PayPal payment\")\n",
    "    def authorize_payment(self):\n",
    "        print(\"Authorizing PayPal payment\")\n",
    "    def finalize_payment(self):\n",
    "        print(\"Finalizing PayPal payment\")\n",
    "\n",
    "### Client Code\n",
    "def process_payment(payment_type):\n",
    "    if payment_type == 'pp':\n",
    "        payment_processor = PayPalPaymentProcessor()\n",
    "    elif payment_type == 'cc':\n",
    "        payment_processor = CreditCardPaymentProcessor()\n",
    "    else:\n",
    "        raise ValueError(\"Invalid payment type\")\n",
    "    payment_processor.process_payment()\n",
    "\n",
    "process_payment('pp')\n",
    "process_payment('cc')"
   ]
  }
 ],
 "metadata": {
  "kernelspec": {
   "display_name": "base",
   "language": "python",
   "name": "python3"
  },
  "language_info": {
   "codemirror_mode": {
    "name": "ipython",
    "version": 3
   },
   "file_extension": ".py",
   "mimetype": "text/x-python",
   "name": "python",
   "nbconvert_exporter": "python",
   "pygments_lexer": "ipython3",
   "version": "3.11.8"
  }
 },
 "nbformat": 4,
 "nbformat_minor": 2
}
