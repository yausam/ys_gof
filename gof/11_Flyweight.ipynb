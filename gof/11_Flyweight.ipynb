{
 "cells": [
  {
   "cell_type": "code",
   "execution_count": 1,
   "metadata": {},
   "outputs": [
    {
     "name": "stdout",
     "output_type": "stream",
     "text": [
      "Generic\n",
      "Creating new payment object\n",
      "Processing credit card payment of $100\n",
      "Creating new payment object\n",
      "Processing paypal payment of $50\n",
      "Creating new payment object\n",
      "Processing bitcoin payment of $200\n",
      "Creating new payment object\n",
      "Processing credit card payment of $150\n"
     ]
    }
   ],
   "source": [
    "\"\"\"\n",
    "    Used to minimize memory usage and improve performance by sharing common state between multiple objects. \n",
    "    It achieves this by storing shared state externally and passing it to the objects that need it, \n",
    "rather than each object storing its own copy of the state.\n",
    "\n",
    "    The Flyweight pattern is particularly useful in situations where a large number \n",
    "of similar objects need to be created, and memory usage is a concern. \n",
    "    By sharing common state, it reduces the memory footprint of the application and improves its performance.\n",
    "\n",
    "The main components of the Flyweight pattern are:\n",
    "1.  Flyweight: This is the interface through which flyweights are able to receive and act on extrinsic state.\n",
    "2.  Concrete Flyweight: This is a concrete implementation of the Flyweight interface. It is responsible \n",
    "for managing its own state and providing an implementation of the Flyweight interface.\n",
    "3.  Flyweight Factory: This is responsible for managing a pool of flyweight objects and ensuring that \n",
    "flyweights are shared properly. It is also responsible for creating and returning an existing flyweight \n",
    "if it already exists, or creating a new one if it does not.\n",
    "4.  Client: This is the class that uses the Flyweight pattern. It is responsible for passing extrinsic state to the flyweight objects.\n",
    "\n",
    "Python specific alternatives:\n",
    "1.  Dictionary-based Caching\n",
    "2.  Memoization\n",
    "3.  RLU Cache\n",
    "\n",
    "\"\"\"\n",
    "\n",
    "print(\"Generic\")\n",
    "\n",
    "class Payment:\n",
    "    def __init__(self, method, amount):\n",
    "        self.method = method\n",
    "        self.amount = amount\n",
    "    def process_payment(self):\n",
    "        print(f\"Processing {self.method} payment of ${self.amount}\")\n",
    "\n",
    "\n",
    "class PaymentFactory:\n",
    "    _payments = {}\n",
    "    @staticmethod\n",
    "    def get_payment(method, amount):\n",
    "        if (method, amount) not in PaymentFactory._payments:\n",
    "            print(\"Creating new payment object\")\n",
    "            PaymentFactory._payments[(method, amount)] = Payment(method, amount)\n",
    "        else:\n",
    "            print(\"Reusing existing payment object\")\n",
    "        return PaymentFactory._payments[(method, amount)]\n",
    "\n",
    "\n",
    "### Client code\n",
    "payment_methods = [(\"credit card\", 100), (\"paypal\", 50), (\"bitcoin\", 200), (\"credit card\", 150)]\n",
    "\n",
    "for method, amount in payment_methods:\n",
    "    payment = PaymentFactory.get_payment(method, amount)\n",
    "    payment.process_payment()"
   ]
  },
  {
   "cell_type": "code",
   "execution_count": 2,
   "metadata": {},
   "outputs": [
    {
     "name": "stdout",
     "output_type": "stream",
     "text": [
      "More Pythonic\n",
      "Creating new payment object\n",
      "Processing credit card payment of $100\n",
      "Creating new payment object\n",
      "Processing paypal payment of $50\n",
      "Creating new payment object\n",
      "Processing bitcoin payment of $200\n",
      "Creating new payment object\n",
      "Processing credit card payment of $150\n"
     ]
    }
   ],
   "source": [
    "print(\"More Pythonic\")\n",
    "\n",
    "### Payment\n",
    "class Payment:\n",
    "    _instances = {}\n",
    "\n",
    "    def __new__(cls, method, amount):\n",
    "        key = (method, amount)\n",
    "        if key not in cls._instances:\n",
    "            print(\"Creating new payment object\")\n",
    "            instance = super().__new__(cls)\n",
    "            instance.method = method\n",
    "            instance.amount = amount\n",
    "            cls._instances[key] = instance\n",
    "        else:\n",
    "            print(\"Reusing existing payment object\")\n",
    "        return cls._instances[key]\n",
    "\n",
    "    def process_payment(self):\n",
    "        print(f\"Processing {self.method} payment of ${self.amount}\")\n",
    "\n",
    "### Client code\n",
    "payment_methods = [(\"credit card\", 100), (\"paypal\", 50), (\"bitcoin\", 200), (\"credit card\", 150)]\n",
    "\n",
    "for method, amount in payment_methods:\n",
    "    payment = Payment(method, amount)\n",
    "    payment.process_payment()"
   ]
  }
 ],
 "metadata": {
  "kernelspec": {
   "display_name": "base",
   "language": "python",
   "name": "python3"
  },
  "language_info": {
   "codemirror_mode": {
    "name": "ipython",
    "version": 3
   },
   "file_extension": ".py",
   "mimetype": "text/x-python",
   "name": "python",
   "nbconvert_exporter": "python",
   "pygments_lexer": "ipython3",
   "version": "3.11.8"
  }
 },
 "nbformat": 4,
 "nbformat_minor": 2
}
