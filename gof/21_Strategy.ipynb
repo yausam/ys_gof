{
 "cells": [
  {
   "cell_type": "code",
   "execution_count": 1,
   "metadata": {},
   "outputs": [
    {
     "name": "stdout",
     "output_type": "stream",
     "text": [
      "Generic\n",
      "Paying 100 via credit card\n",
      "Paying 50 via PayPal\n"
     ]
    }
   ],
   "source": [
    "\"\"\"\n",
    "    Defines a family of algorithms, encapsulates each one, and makes them interchangeable.\n",
    "    Strategy pattern allows the client code to choose and switch between different payment strategies at runtime \n",
    "without modifying the context class .\n",
    "\n",
    "The main components of the Strategy pattern are:\n",
    "1.  Context: This is the class that will use a strategy. It has a reference to the strategy.\n",
    "2.  Strategy: This is the interface that will be implemented by all the concrete strategies.\n",
    "3.  ConcreteStrategy: These are the concrete implementations of the strategy interface.\n",
    "4.  Client: This is the class that will use the context and the strategy.\n",
    "\n",
    "Examples/usage:\n",
    "1.  Payment Processing. Each payment strategy encapsulates its payment logic, allowing \n",
    "for easy extension and interchangeability of payment methods.\n",
    "2.  Logging and Error Handling: Different logging and error handling strategies can be useful.\n",
    "3.  Task Scheduling: In applications that involve task scheduling or job execution, you may have\n",
    "different scheduling strategies based on factors like task priority, resource availability, or scheduling policies\n",
    "\n",
    "\"\"\"\n",
    "\n",
    "print(\"Generic\")\n",
    "\n",
    "from abc import ABC, abstractmethod\n",
    "\n",
    "### StrStrategy\n",
    "class PaymentStrategy(ABC):\n",
    "    @abstractmethod\n",
    "    def pay(self, amount):\n",
    "        pass\n",
    "\n",
    "class CreditCardPaymentStrategy(PaymentStrategy):\n",
    "    def pay(self, amount):\n",
    "        print(f\"Paying {amount} via credit card\")\n",
    "\n",
    "class PayPalPaymentStrategy(PaymentStrategy):\n",
    "    def pay(self, amount):\n",
    "        print(f\"Paying {amount} via PayPal\")\n",
    "\n",
    "### Context\n",
    "class ShoppingCart:\n",
    "    def __init__(self, payment_strategy):\n",
    "        self.payment_strategy = payment_strategy\n",
    "    def checkout(self, total_amount):\n",
    "        self.payment_strategy.pay(total_amount)\n",
    "\n",
    "### Client Code\n",
    "credit_card_strategy = CreditCardPaymentStrategy()\n",
    "paypal_strategy = PayPalPaymentStrategy()\n",
    "\n",
    "cart = ShoppingCart(credit_card_strategy)\n",
    "cart.checkout(100)\n",
    "cart.payment_strategy = paypal_strategy\n",
    "cart.checkout(50)"
   ]
  }
 ],
 "metadata": {
  "kernelspec": {
   "display_name": "base",
   "language": "python",
   "name": "python3"
  },
  "language_info": {
   "codemirror_mode": {
    "name": "ipython",
    "version": 3
   },
   "file_extension": ".py",
   "mimetype": "text/x-python",
   "name": "python",
   "nbconvert_exporter": "python",
   "pygments_lexer": "ipython3",
   "version": "3.11.8"
  }
 },
 "nbformat": 4,
 "nbformat_minor": 2
}
